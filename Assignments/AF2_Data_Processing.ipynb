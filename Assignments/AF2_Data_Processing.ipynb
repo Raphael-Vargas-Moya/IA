{
  "nbformat": 4,
  "nbformat_minor": 0,
  "metadata": {
    "colab": {
      "provenance": [],
      "include_colab_link": true
    },
    "kernelspec": {
      "name": "python3",
      "display_name": "Python 3"
    },
    "language_info": {
      "name": "python"
    }
  },
  "cells": [
    {
      "cell_type": "markdown",
      "metadata": {
        "id": "view-in-github",
        "colab_type": "text"
      },
      "source": [
        "<a href=\"https://colab.research.google.com/github/Raphael-Vargas-Moya/IA/blob/main/Assignments/AF2_Data_Processing.ipynb\" target=\"_parent\"><img src=\"https://colab.research.google.com/assets/colab-badge.svg\" alt=\"Open In Colab\"/></a>"
      ]
    },
    {
      "cell_type": "markdown",
      "source": [
        "# Assignment 2: Processing Datasets in Python\n",
        "\n",
        "*   Joshua Abdiel Bahena Piedras           2018505\n",
        "*   Jared Gutierrez Contreras              2131945\n",
        "*   Raphaël Vargas Moya                    2132207\n",
        "*   Dora Jazmín González Díaz              2049427\n",
        "*   Diego Eduardo Rodríguez Arreguín       2004407\n",
        "\n",
        "Artificial Intelligence - LMVN2 - Biomedical Engineering"
      ],
      "metadata": {
        "id": "jBn2nj5w8pla"
      }
    },
    {
      "cell_type": "markdown",
      "source": [
        "\n",
        "\n",
        "---\n",
        "\n"
      ],
      "metadata": {
        "id": "CDHmXES9ycx2"
      }
    },
    {
      "cell_type": "markdown",
      "source": [
        "# **PART 1**\n",
        "\n"
      ],
      "metadata": {
        "id": "u7-w2wyyCkrK"
      }
    },
    {
      "cell_type": "markdown",
      "source": [
        "First of all, we loaded the libraries that we will use along the activity so that we don't get any errors for calling functions that don't exist or something along those lines."
      ],
      "metadata": {
        "id": "CllQENohGVZL"
      }
    },
    {
      "cell_type": "code",
      "source": [
        "import pandas as pd\n",
        "import matplotlib.pyplot as plt\n",
        "import numpy as np\n",
        "from sklearn.linear_model import LinearRegression"
      ],
      "metadata": {
        "id": "rk65bHDlVIjL"
      },
      "execution_count": null,
      "outputs": []
    },
    {
      "cell_type": "markdown",
      "source": [
        "1. Load the dataset using the library Pandas."
      ],
      "metadata": {
        "id": "WS_aOrqJ-qoC"
      }
    },
    {
      "cell_type": "markdown",
      "source": [
        "For the loading of the dataset, we first downloaded the file \"diabetes.csv\" from the kaggle database provided link, which will be our dataset, and since we are working in Google Colab which uses virtual machines that reset the files each time, and since mounting Google Drive doesn't link the file to every member of the Team, we chose to upload the dataset file to the GitHub Repository of one of the members of the team, from wich we would get the file with the Unix comand \"wget\" (which is why we included the \"!\" at the start, so that Colab knows that it's not Python code) and save it to the \"/content\" directory of the notebook, which is available to anyone with access to the notebook. Finally, we read the csv file with the \"pandas.read_csv\" function to a variable called \"df\" (which stands for Data Frame)."
      ],
      "metadata": {
        "id": "oBu2j5npGGAt"
      }
    },
    {
      "cell_type": "code",
      "source": [
        "# Source: https://github.com/Raphael-Vargas-Moya/IA/blob/main/Assignments/Assignment_2/diabetes.csv\n",
        "\n",
        "!wget https://raw.githubusercontent.com/Raphael-Vargas-Moya/IA/refs/heads/main/Assignments/Assignment_2/diabetes.csv -O /content/diabetes.csv\n",
        "df = pd.read_csv('/content/diabetes.csv')"
      ],
      "metadata": {
        "id": "ryI_O88GGFoN",
        "colab": {
          "base_uri": "https://localhost:8080/"
        },
        "outputId": "bcaa3b54-396f-47f8-8ebc-c21d58884d3c"
      },
      "execution_count": null,
      "outputs": [
        {
          "output_type": "stream",
          "name": "stdout",
          "text": [
            "--2025-09-06 05:43:51--  https://raw.githubusercontent.com/Raphael-Vargas-Moya/IA/refs/heads/main/Assignments/Assignment_2/diabetes.csv\n",
            "Resolving raw.githubusercontent.com (raw.githubusercontent.com)... 185.199.108.133, 185.199.109.133, 185.199.110.133, ...\n",
            "Connecting to raw.githubusercontent.com (raw.githubusercontent.com)|185.199.108.133|:443... connected.\n",
            "HTTP request sent, awaiting response... 200 OK\n",
            "Length: 23873 (23K) [text/plain]\n",
            "Saving to: ‘/content/diabetes.csv’\n",
            "\n",
            "\r/content/diabetes.c   0%[                    ]       0  --.-KB/s               \r/content/diabetes.c 100%[===================>]  23.31K  --.-KB/s    in 0.003s  \n",
            "\n",
            "2025-09-06 05:43:51 (8.61 MB/s) - ‘/content/diabetes.csv’ saved [23873/23873]\n",
            "\n"
          ]
        }
      ]
    },
    {
      "cell_type": "markdown",
      "source": [
        "2. Display the first 20 rows of the dataset."
      ],
      "metadata": {
        "id": "zdklpuT1_IX0"
      }
    },
    {
      "cell_type": "markdown",
      "source": [
        "For this part, we use the \"pandas.DataFrame.head\" function to get the first 20 rows of the data frame, and the \"print\" function to display them."
      ],
      "metadata": {
        "id": "b_ySnhnKOkJF"
      }
    },
    {
      "cell_type": "code",
      "source": [
        "print(df.head(20))"
      ],
      "metadata": {
        "colab": {
          "base_uri": "https://localhost:8080/"
        },
        "id": "Shc94drZ_yw1",
        "outputId": "c70b8869-5023-4d0a-db19-2fb82a9f48e0"
      },
      "execution_count": null,
      "outputs": [
        {
          "output_type": "stream",
          "name": "stdout",
          "text": [
            "    Pregnancies  Glucose  BloodPressure  SkinThickness  Insulin   BMI  \\\n",
            "0             6      148             72             35        0  33.6   \n",
            "1             1       85             66             29        0  26.6   \n",
            "2             8      183             64              0        0  23.3   \n",
            "3             1       89             66             23       94  28.1   \n",
            "4             0      137             40             35      168  43.1   \n",
            "5             5      116             74              0        0  25.6   \n",
            "6             3       78             50             32       88  31.0   \n",
            "7            10      115              0              0        0  35.3   \n",
            "8             2      197             70             45      543  30.5   \n",
            "9             8      125             96              0        0   0.0   \n",
            "10            4      110             92              0        0  37.6   \n",
            "11           10      168             74              0        0  38.0   \n",
            "12           10      139             80              0        0  27.1   \n",
            "13            1      189             60             23      846  30.1   \n",
            "14            5      166             72             19      175  25.8   \n",
            "15            7      100              0              0        0  30.0   \n",
            "16            0      118             84             47      230  45.8   \n",
            "17            7      107             74              0        0  29.6   \n",
            "18            1      103             30             38       83  43.3   \n",
            "19            1      115             70             30       96  34.6   \n",
            "\n",
            "    DiabetesPedigreeFunction  Age  Outcome  \n",
            "0                      0.627   50        1  \n",
            "1                      0.351   31        0  \n",
            "2                      0.672   32        1  \n",
            "3                      0.167   21        0  \n",
            "4                      2.288   33        1  \n",
            "5                      0.201   30        0  \n",
            "6                      0.248   26        1  \n",
            "7                      0.134   29        0  \n",
            "8                      0.158   53        1  \n",
            "9                      0.232   54        1  \n",
            "10                     0.191   30        0  \n",
            "11                     0.537   34        1  \n",
            "12                     1.441   57        0  \n",
            "13                     0.398   59        1  \n",
            "14                     0.587   51        1  \n",
            "15                     0.484   32        1  \n",
            "16                     0.551   31        1  \n",
            "17                     0.254   31        1  \n",
            "18                     0.183   33        0  \n",
            "19                     0.529   32        1  \n"
          ]
        }
      ]
    },
    {
      "cell_type": "markdown",
      "source": [
        "3. Identify inconsistent values and count them in each column."
      ],
      "metadata": {
        "id": "Hb7B4tTQ_v3V"
      }
    },
    {
      "cell_type": "markdown",
      "source": [
        "For this part, we first checked that there were none Null values (like Null, NaN, etc.) in the dataframe with the \"isnull\" function and the summed the ammount of the found values that matched the criteria with the \"sum\" function, and then we displayed it with a print."
      ],
      "metadata": {
        "id": "TaamKQxwPsjU"
      }
    },
    {
      "cell_type": "code",
      "source": [
        "print(df.isnull().sum())"
      ],
      "metadata": {
        "id": "frmk6UijPs6s",
        "colab": {
          "base_uri": "https://localhost:8080/"
        },
        "outputId": "bfdcdbbf-0315-4bb7-d3a2-9047d26fd775"
      },
      "execution_count": null,
      "outputs": [
        {
          "output_type": "stream",
          "name": "stdout",
          "text": [
            "Pregnancies                 0\n",
            "Glucose                     0\n",
            "BloodPressure               0\n",
            "SkinThickness               0\n",
            "Insulin                     0\n",
            "BMI                         0\n",
            "DiabetesPedigreeFunction    0\n",
            "Age                         0\n",
            "Outcome                     0\n",
            "dtype: int64\n"
          ]
        }
      ]
    },
    {
      "cell_type": "markdown",
      "source": [
        "As we can see, there are no empty cells or null values in the dataset, so then we later chequed for \"0\" (zero) values in each column similarly to the previous step."
      ],
      "metadata": {
        "id": "VTAbWcQhS31W"
      }
    },
    {
      "cell_type": "code",
      "source": [
        "print((df == 0).sum())"
      ],
      "metadata": {
        "colab": {
          "base_uri": "https://localhost:8080/"
        },
        "id": "PX7cqSDNTeCY",
        "outputId": "37e0a073-4aa3-4af1-a623-f6adc926e96d"
      },
      "execution_count": null,
      "outputs": [
        {
          "output_type": "stream",
          "name": "stdout",
          "text": [
            "Pregnancies                 111\n",
            "Glucose                       5\n",
            "BloodPressure                35\n",
            "SkinThickness               227\n",
            "Insulin                     374\n",
            "BMI                          11\n",
            "DiabetesPedigreeFunction      0\n",
            "Age                           0\n",
            "Outcome                     500\n",
            "dtype: int64\n"
          ]
        }
      ]
    },
    {
      "cell_type": "markdown",
      "source": [
        "And we found a considerable number of \"0\"s in columns that should't have them; for example, we expect to see values of 0 in colums like \"Pregnancies\" or \"Outcome\", but that's not the case in columns like \"Glucose\", \"BloodPressure\", \"BMI\", \"SkinThickness\" or \"Insulin\", in which there doesn't make sense to have values of 0. This problem will be solved later as the activity progresses."
      ],
      "metadata": {
        "id": "QZhxMAImUI5j"
      }
    },
    {
      "cell_type": "markdown",
      "source": [
        "4. Generating descriptive statistics"
      ],
      "metadata": {
        "id": "LZ-ZyE4yAhe6"
      }
    },
    {
      "cell_type": "markdown",
      "source": [
        "As a last step for the \"Part 1\", we use the function \"pandas.DataFrame.describe\" to generate rough descriptive statistics of the dataset."
      ],
      "metadata": {
        "id": "hbH02vKHWSkl"
      }
    },
    {
      "cell_type": "code",
      "source": [
        "print(df.describe())"
      ],
      "metadata": {
        "colab": {
          "base_uri": "https://localhost:8080/"
        },
        "id": "18-h4ZtqCL8Q",
        "outputId": "02c88b94-c976-4d39-9f0b-119ac934d64b"
      },
      "execution_count": null,
      "outputs": [
        {
          "output_type": "stream",
          "name": "stdout",
          "text": [
            "       Pregnancies     Glucose  BloodPressure  SkinThickness     Insulin  \\\n",
            "count   768.000000  768.000000     768.000000     768.000000  768.000000   \n",
            "mean      3.845052  120.894531      69.105469      20.536458   79.799479   \n",
            "std       3.369578   31.972618      19.355807      15.952218  115.244002   \n",
            "min       0.000000    0.000000       0.000000       0.000000    0.000000   \n",
            "25%       1.000000   99.000000      62.000000       0.000000    0.000000   \n",
            "50%       3.000000  117.000000      72.000000      23.000000   30.500000   \n",
            "75%       6.000000  140.250000      80.000000      32.000000  127.250000   \n",
            "max      17.000000  199.000000     122.000000      99.000000  846.000000   \n",
            "\n",
            "              BMI  DiabetesPedigreeFunction         Age     Outcome  \n",
            "count  768.000000                768.000000  768.000000  768.000000  \n",
            "mean    31.992578                  0.471876   33.240885    0.348958  \n",
            "std      7.884160                  0.331329   11.760232    0.476951  \n",
            "min      0.000000                  0.078000   21.000000    0.000000  \n",
            "25%     27.300000                  0.243750   24.000000    0.000000  \n",
            "50%     32.000000                  0.372500   29.000000    0.000000  \n",
            "75%     36.600000                  0.626250   41.000000    1.000000  \n",
            "max     67.100000                  2.420000   81.000000    1.000000  \n"
          ]
        }
      ]
    },
    {
      "cell_type": "markdown",
      "source": [
        "\n",
        "\n",
        "---\n",
        "\n"
      ],
      "metadata": {
        "id": "GAyFkybRyUVZ"
      }
    },
    {
      "cell_type": "markdown",
      "source": [
        "# **PART 2**"
      ],
      "metadata": {
        "id": "XiFWzZ4FC38e"
      }
    },
    {
      "cell_type": "markdown",
      "source": [
        "1. Replace zero values in attribute columns with the median of each column."
      ],
      "metadata": {
        "id": "mRubwwSdeHyR"
      }
    },
    {
      "cell_type": "markdown",
      "source": [
        "**The code cleans the dataset by replacing zeros with the column mean, and then displays the first rows of the modified DataFrame.**\n",
        "\n",
        "This code iterates through every column in the created array \"invalidColumns\" that, as the name suggests, contais the invalid columns of the data frame, which are those that have 0's where they should\n",
        "n't.\n",
        "\n",
        "For each column, it replaces all occurrences of the value 0 with the median of that same column.  As we can see, there are \"0\" in columns that shouldn't be. That's why, we can not have a median value in the column such as \"Pregnancies\" or \"Outcome\" (as we mentioned in part 1).\n",
        "\n",
        "\n",
        "After processing all columns, it prints the first ten rows of the updated DataFrame using df.head().\n",
        "\n"
      ],
      "metadata": {
        "id": "9p5KlCLfRSJv"
      }
    },
    {
      "cell_type": "code",
      "source": [
        "# If there are null values we can choose to fill them with the mean\n",
        "invalidColumns = ['Glucose', 'BloodPressure', 'SkinThickness', 'Insulin', 'BMI']\n",
        "\n",
        "for column in invalidColumns:\n",
        "    df[column] = df[column].replace(0, df[column].median())\n",
        "\n",
        "print(df.head(10))"
      ],
      "metadata": {
        "colab": {
          "base_uri": "https://localhost:8080/"
        },
        "id": "beCN_sQraN-P",
        "outputId": "7fb89f69-3109-4cea-b149-0a6b22b88247"
      },
      "execution_count": null,
      "outputs": [
        {
          "output_type": "stream",
          "name": "stdout",
          "text": [
            "   Pregnancies  Glucose  BloodPressure  SkinThickness  Insulin   BMI  \\\n",
            "0            6      148             72             35     30.5  33.6   \n",
            "1            1       85             66             29     30.5  26.6   \n",
            "2            8      183             64             23     30.5  23.3   \n",
            "3            1       89             66             23     94.0  28.1   \n",
            "4            0      137             40             35    168.0  43.1   \n",
            "5            5      116             74             23     30.5  25.6   \n",
            "6            3       78             50             32     88.0  31.0   \n",
            "7           10      115             72             23     30.5  35.3   \n",
            "8            2      197             70             45    543.0  30.5   \n",
            "9            8      125             96             23     30.5  32.0   \n",
            "\n",
            "   DiabetesPedigreeFunction  Age  Outcome  \n",
            "0                     0.627   50        1  \n",
            "1                     0.351   31        0  \n",
            "2                     0.672   32        1  \n",
            "3                     0.167   21        0  \n",
            "4                     2.288   33        1  \n",
            "5                     0.201   30        0  \n",
            "6                     0.248   26        1  \n",
            "7                     0.134   29        0  \n",
            "8                     0.158   53        1  \n",
            "9                     0.232   54        1  \n"
          ]
        }
      ]
    },
    {
      "cell_type": "markdown",
      "source": [
        "2. Normalize numerical data using Min-Max Scaling."
      ],
      "metadata": {
        "id": "yGNFumvXeLjh"
      }
    },
    {
      "cell_type": "markdown",
      "source": [
        "In this step, Min-Max normalization was applied to adjust all the values of the dataset to a common scale between 0 and 1. This method works by taking each value, subtracting the minimum value of its column, and then dividing by the difference between the maximum and minimum of that column. As a result, the smallest value becomes 0, the largest becomes 1, and all other values are mapped proportionally within this range. The operation was applied to the entire DataFrame at once, so every column was normalized simultaneously. Finally, the normalized dataset was stored in a new variable called df\\_normalization and then printed to display the rescaled values.\n"
      ],
      "metadata": {
        "id": "L4AF8yw9FtR8"
      }
    },
    {
      "cell_type": "code",
      "source": [
        "# Min-Max normalization scale values between 0 and 1\n",
        "df_normalization = (df - df.min()) / (df.max() - df.min())\n",
        "print(df_normalization)"
      ],
      "metadata": {
        "colab": {
          "base_uri": "https://localhost:8080/"
        },
        "id": "Gcj4bHh1ExJS",
        "outputId": "02b54959-1887-42f2-cead-d61050ed9932"
      },
      "execution_count": null,
      "outputs": [
        {
          "output_type": "stream",
          "name": "stdout",
          "text": [
            "     Pregnancies   Glucose  BloodPressure  SkinThickness   Insulin       BMI  \\\n",
            "0       0.352941  0.670968       0.489796       0.304348  0.019832  0.314928   \n",
            "1       0.058824  0.264516       0.428571       0.239130  0.019832  0.171779   \n",
            "2       0.470588  0.896774       0.408163       0.173913  0.019832  0.104294   \n",
            "3       0.058824  0.290323       0.428571       0.173913  0.096154  0.202454   \n",
            "4       0.000000  0.600000       0.163265       0.304348  0.185096  0.509202   \n",
            "..           ...       ...            ...            ...       ...       ...   \n",
            "763     0.588235  0.367742       0.530612       0.445652  0.199519  0.300613   \n",
            "764     0.117647  0.503226       0.469388       0.217391  0.019832  0.380368   \n",
            "765     0.294118  0.496774       0.489796       0.173913  0.117788  0.163599   \n",
            "766     0.058824  0.529032       0.367347       0.173913  0.019832  0.243354   \n",
            "767     0.058824  0.316129       0.469388       0.260870  0.019832  0.249489   \n",
            "\n",
            "     DiabetesPedigreeFunction       Age  Outcome  \n",
            "0                    0.234415  0.483333      1.0  \n",
            "1                    0.116567  0.166667      0.0  \n",
            "2                    0.253629  0.183333      1.0  \n",
            "3                    0.038002  0.000000      0.0  \n",
            "4                    0.943638  0.200000      1.0  \n",
            "..                        ...       ...      ...  \n",
            "763                  0.039710  0.700000      0.0  \n",
            "764                  0.111870  0.100000      0.0  \n",
            "765                  0.071307  0.150000      0.0  \n",
            "766                  0.115713  0.433333      1.0  \n",
            "767                  0.101196  0.033333      0.0  \n",
            "\n",
            "[768 rows x 9 columns]\n"
          ]
        }
      ]
    },
    {
      "cell_type": "markdown",
      "source": [
        "\n",
        "\n",
        "---\n",
        "\n"
      ],
      "metadata": {
        "id": "UGD7gneuyRbg"
      }
    },
    {
      "cell_type": "markdown",
      "source": [
        "# **PART 3**"
      ],
      "metadata": {
        "id": "1xDATGrBLMy6"
      }
    },
    {
      "cell_type": "markdown",
      "source": [
        "1. Histogram of glucose levels before and after normalization."
      ],
      "metadata": {
        "id": "OuGnrlnHh5Oa"
      }
    },
    {
      "cell_type": "markdown",
      "source": [
        "This code selects the Glucose column from the dataset and creates a histogram to visualize the distribution of glucose levels before normalization, and in the same way to the glucose levels after normalization.\n",
        "\n",
        "*   bins = 30 divides the data into 30 intervals for better detail.\n",
        "*   color='green' and alpha=0.7 give the bars a green color with some transparency.\n",
        "*   The plot is given a title and labeled axes for clarity.\n",
        "*   Finally, plt.show() displays the histogram.\n",
        "\n"
      ],
      "metadata": {
        "id": "nREmENxnvgHL"
      }
    },
    {
      "cell_type": "code",
      "source": [
        "datos = df['Glucose']  # Select only the 'Glucose' column\n",
        "plt.hist(datos, bins=30, color='green', alpha=0.7)  # Draws the histogram\n",
        "plt.title(\"Glucose levels before normalization data histogram\")  # Title\n",
        "plt.xlabel(\"Data\")  # Label for the x-axis\n",
        "plt.ylabel(\"Levels\")  # Label for the y-axis\n",
        "plt.show()  # Shows the graph"
      ],
      "metadata": {
        "colab": {
          "base_uri": "https://localhost:8080/",
          "height": 472
        },
        "id": "ac7Gke4aLOFl",
        "outputId": "9f01197b-9f00-450a-d35a-a60d9116a99e"
      },
      "execution_count": null,
      "outputs": [
        {
          "output_type": "display_data",
          "data": {
            "text/plain": [
              "<Figure size 640x480 with 1 Axes>"
            ],
            "image/png": "[encoded data removed]"
          },
          "metadata": {}
        }
      ]
    },
    {
      "cell_type": "code",
      "source": [
        "datos = df_normalization['Glucose']  # Select only the 'Glucose' column\n",
        "plt.hist(datos, bins=30, color='green', alpha=0.7)  # Draws the histogram\n",
        "plt.title(\"Glucose levels after normalization data histogram\")  # Title\n",
        "plt.xlabel(\"Data\")  # Label for the x-axis\n",
        "plt.ylabel(\"Levels\")  # Label for the y-axis\n",
        "plt.show()  # Shows the graph"
      ],
      "metadata": {
        "colab": {
          "base_uri": "https://localhost:8080/",
          "height": 472
        },
        "id": "34tu8jgBXeiW",
        "outputId": "87dea1af-16d6-4113-cc61-68b166cb3700"
      },
      "execution_count": null,
      "outputs": [
        {
          "output_type": "display_data",
          "data": {
            "text/plain": [
              "<Figure size 640x480 with 1 Axes>"
            ],
            "image/png": "[encoded data removed]"
          },
          "metadata": {}
        }
      ]
    },
    {
      "cell_type": "markdown",
      "source": [
        "2. Boxplot to identify outliers in blood pressure."
      ],
      "metadata": {
        "id": "AtfWPi-Ch8x7"
      }
    },
    {
      "cell_type": "markdown",
      "source": [
        "In this phase we create a boxplot of the BloodPressure column in the dataset to identify the distribution of blood pressure values and detect possible outliers.\n",
        "\n",
        "*   plt.figure() → Opens a new figure so the plot is independent.\n",
        "*   plt.boxplot(df['BloodPressure'], vert=False, patch_artist=True) → Draws the boxplot:\n",
        "\n",
        "       *   df['BloodPressure'] → the column we want to analyze.\n",
        "       *   vert=False → makes the boxplot horizontal instead of vertical.\n",
        "       *   patch_artist=True → allows the box to be filled with color (if styles are added).\n",
        "\n",
        "*   plt.xlabel(\"Blood Pressure\") → Labels the x-axis.\n",
        "\n",
        "\n",
        "\n",
        "\n",
        "\n",
        "\n",
        "\n",
        "\n",
        "\n"
      ],
      "metadata": {
        "id": "O4ZC7XvF068M"
      }
    },
    {
      "cell_type": "code",
      "source": [
        "# 2) Boxplot to identify outliers in Blood Pressure\n",
        "plt.figure()\n",
        "plt.boxplot(df['BloodPressure'], vert=False, patch_artist=True)\n",
        "plt.title(\"Boxplot of Blood Pressure\")\n",
        "plt.xlabel(\"Blood Pressure\")\n",
        "plt.show()"
      ],
      "metadata": {
        "colab": {
          "base_uri": "https://localhost:8080/",
          "height": 472
        },
        "id": "e9_F9QzmREGG",
        "outputId": "4bbee881-3273-4bb7-9e0d-b4776fab76c7"
      },
      "execution_count": null,
      "outputs": [
        {
          "output_type": "display_data",
          "data": {
            "text/plain": [
              "<Figure size 640x480 with 1 Axes>"
            ],
            "image/png": "[encoded data removed]"
          },
          "metadata": {}
        }
      ]
    },
    {
      "cell_type": "markdown",
      "source": [
        "We can identify the outliners represented as circle dots in the boxplot."
      ],
      "metadata": {
        "id": "WHUPbKQSiJVn"
      }
    },
    {
      "cell_type": "markdown",
      "source": [
        "3. Scatter plot between Glucose and BMI to analyze correlation."
      ],
      "metadata": {
        "id": "1I3bQGPbiAzC"
      }
    },
    {
      "cell_type": "markdown",
      "source": [
        "First, the data was cleaned just in case as an example by removing the rows with missing values in the Glucose and BMI columns to avoid errors in the model. Then, the variables were defined: X contains the glucose values (independent variable) and Y the BMI values (dependent variable).\n",
        "\n",
        "With these variables, a linear regression model (LinearRegression) was trained to fit a line that best represents the relationship between them. Afterwards, the predictions (y_pred) were calculated, and two elements were plotted: the real data as a red scatter plot and the fitted line in blue, visually showing the correlation between both variables."
      ],
      "metadata": {
        "id": "i5iNKQABxw7x"
      }
    },
    {
      "cell_type": "code",
      "source": [
        "# 3) Scatter plot between Glucose and BMI to analyze correlation\n",
        "# Drop rows with NaN values before performing linear regression\n",
        "df_cleaned = df.dropna(subset=['Glucose', 'BMI'])\n",
        "\n",
        "X = df_cleaned[[\"Glucose\"]].values\n",
        "Y = df_cleaned [ [\"BMI\" ]]. values\n",
        "\n",
        "model = LinearRegression()\n",
        "model.fit(X,Y)\n",
        "\n",
        "y_pred = model.predict(X)\n",
        "\n",
        "plt.scatter(X,Y, color = \"red\", label=\"Real data\" )\n",
        "plt.plot(X, y_pred, color = \"blue\", label = \"Linear regression model\")\n",
        "plt.title(\"Linear regression\")\n",
        "plt.xlabel(\"Glucose\")\n",
        "plt.ylabel(\"BMI\")\n",
        "plt.legend()\n",
        "plt. show()"
      ],
      "metadata": {
        "colab": {
          "base_uri": "https://localhost:8080/",
          "height": 472
        },
        "id": "wPF56QmTRIEF",
        "outputId": "7a8b301c-c0ed-415f-80ad-24754a957e8e"
      },
      "execution_count": null,
      "outputs": [
        {
          "output_type": "display_data",
          "data": {
            "text/plain": [
              "<Figure size 640x480 with 1 Axes>"
            ],
            "image/png": "[encoded data removed]"
          },
          "metadata": {}
        }
      ]
    },
    {
      "cell_type": "markdown",
      "source": [
        "4. Bar chart showing the number of patients with and without diabetes (Outcome)."
      ],
      "metadata": {
        "id": "c1LrjmB9icqQ"
      }
    },
    {
      "cell_type": "markdown",
      "source": [
        "Here, a bar chart was created to show how many patients have diabetes and how many do not, using the Outcome column of the dataset. First, value_counts() was applied to Outcome, which counts how many times each category appears (0 = no diabetes, 1 = diabetes). These counts were stored in Results.\n",
        "\n",
        "Then, a bar chart (plt.bar) was generated using the indices of Results (0 and 1) on the x-axis and their corresponding values (the frequency of each category) on the y-axis. Two colors were used: red for “No diabetes” and green for “Diabetes.”\n",
        "\n",
        "Finally, the chart was customized: the x-axis labels were changed with plt.xticks to show clear text instead of numbers, a label was added to the y-axis, a title was set, and the figure was displayed."
      ],
      "metadata": {
        "id": "lCc9l6R_xyov"
      }
    },
    {
      "cell_type": "code",
      "source": [
        "# 4) Bar chart showing the number of patients with and without diabetes (Outcome)\n",
        "Results = df[\"Outcome\"].value_counts ()\n",
        "\n",
        "plt.bar(Results.index, Results.values, color = [\"red\",\"green\"])\n",
        "plt.xticks([0,1], [\"No diabetes\", \"Diabetes\"])\n",
        "plt.ylabel(\"Number of patients\")\n",
        "plt.title(\"Number of patients with or without diabetes\")\n",
        "plt. show()"
      ],
      "metadata": {
        "id": "8BGkFNWURTpm",
        "outputId": "d82f8f66-14e6-4849-ef73-aa3aea4a0622",
        "colab": {
          "base_uri": "https://localhost:8080/",
          "height": 452
        }
      },
      "execution_count": null,
      "outputs": [
        {
          "output_type": "display_data",
          "data": {
            "text/plain": [
              "<Figure size 640x480 with 1 Axes>"
            ],
            "image/png": "[encoded data removed]"
          },
          "metadata": {}
        }
      ]
    },
    {
      "cell_type": "markdown",
      "source": [
        "# **PART 4**"
      ],
      "metadata": {
        "id": "_9PLmm48deOp"
      }
    },
    {
      "cell_type": "markdown",
      "source": [
        "**1.  What impact do missing values have on data analysis?**\n",
        "\n",
        "*They reduce the quality and reliability of results, since missing values can bias measures like mean or variance if not handled properly. Removing records causes information loss and lowers statistical power, while ignoring them may lead to errors. Therefore, applying imputation or suitable strategies is essential to ensure trustworthy data analysis.*\n",
        "\n",
        "**2.  How can we detect and handle outliers in biomedical datasets?**\n",
        "\n",
        "*Outliers in biomedical data are detected using statistical methods such as the interquartile range or z-scores, and through visualizations like boxplots or scatterplots. They can be removed if they represent errors, replaced with representative values like the median, or transformed. However, if they reflect true biological variability, it is better to keep them and use robust analysis methods that are less affected by extremes.*\n",
        "\n",
        "**3.  What are some common causes of missing or incorrect data in biomedical studies?**\n",
        "\n",
        "*Common causes include human error in data entry, faulty sensors or devices during measurements, patients not following medical procedures, or incomplete records due to lost follow-ups. Additionally, some variables may be intentionally omitted to protect privacy. Understanding these causes helps determine whether missing data should be imputed, corrected, or excluded.*\n",
        "\n",
        "**4.  How does normalizing data improve the performance of Machine Learning models?**\n",
        "\n",
        "*Normalization ensures that all features are on the same scale, typically between 0 and 1, preventing attributes with larger ranges (like glucose levels) from dominating those with smaller ranges (like pedigree function). This improves the stability and convergence speed of algorithms, enhances model accuracy, and ensures fair treatment of all input variables.*\n",
        "\n",
        "**5.  Why is visualizing data an important step before applying Machine Learning models?**\n",
        "\n",
        "*Visualization reveals patterns, distributions, correlations, and anomalies in the dataset. It allows researchers to identify potential issues such as skewed data, outliers, or class imbalances before modeling. In biomedical contexts, visualization also makes complex data more interpretable for clinicians and stakeholders, bridging the gap between raw numbers and meaningful medical insights.*\n",
        "\n",
        "**6.  Why is preprocessing critical when working with medical datasets?**\n",
        "\n",
        "*Medical datasets often contain missing values, inconsistent entries, and variables with different scales. Preprocessing ensures data quality, consistency, and readiness for analysis. By cleaning, imputing, and normalizing, researchers reduce noise and prevent misleading results, which is crucial when patient outcomes and clinical decisions may depend on the model’s predictions.*\n",
        "\n",
        "**7.  What ethical concerns should be considered when handling patient data?**\n",
        "\n",
        "Ethical concerns include ensuring patient privacy, maintaining confidentiality, and complying with regulations such as HIPAA or GDPR. Researchers must also avoid introducing biases that could lead to discriminatory models, ensure transparency in how data is used, and obtain proper consent for data collection. Ultimately, protecting patients’ rights and trust is as important as the technical accuracy of the analysis.\n"
      ],
      "metadata": {
        "id": "9S7IE1Zw5Oib"
      }
    }
  ]
}